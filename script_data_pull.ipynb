{
 "cells": [
  {
   "cell_type": "code",
   "execution_count": 73,
   "id": "9218ccc2",
   "metadata": {},
   "outputs": [],
   "source": [
    "import pandas as pd\n",
    "from pathlib import Path\n",
    "from collections import defaultdict, Counter\n",
    "from collections import OrderedDict\n",
    "import warnings"
   ]
  },
  {
   "cell_type": "code",
   "execution_count": 79,
   "id": "21cffdfb",
   "metadata": {},
   "outputs": [
    {
     "name": "stdout",
     "output_type": "stream",
     "text": [
      "c:\\Users\\jeremy.yap\\OneDrive - Meinhardt Singapore Pte Ltd\\Python\\lighthouse_dash\n",
      "c:\\Users\\jeremy.yap\\OneDrive - Meinhardt Singapore Pte Ltd\\Python\\lighthouse_dash\n",
      "Found workbooks:\n",
      "• assessment_guide_diriyah.xlsm\n",
      "• assessment_guide_qiddiya.xlsm\n",
      "Reference file sheets: ['P&M Schedule', 'P&M RIsk', 'Cost Estimation & Optimization', 'D&C - Quality', 'D&C - Procurement', 'D&C - HSE & Welfare', 'Innovation & Technology', 'Design & Technical', 'D&C - Construction', 'Strategy & Operations', 'Visuals Menu']\n"
     ]
    }
   ],
   "source": [
    "warnings.simplefilter(\"ignore\", UserWarning)\n",
    "\n",
    "repo_root = Path().cwd()\n",
    "print(repo_root)\n",
    "print(repo_root)\n",
    "\n",
    "ref_path  = repo_root / \"master_sheet_reference_v2.xlsx\"\n",
    "ag_folder    = repo_root / \"assessment_guide\"\n",
    "ag_files  = sorted(ag_folder.glob(\"*.xls*\"))\n",
    "\n",
    "print(\"Found workbooks:\")\n",
    "for p in ag_files:\n",
    "    print(\"•\", p.name)\n",
    "\n",
    "ref_sheets  = pd.read_excel(ref_path,  sheet_name=None)\n",
    "print(\"Reference file sheets:\", list(ref_sheets.keys()))"
   ]
  },
  {
   "cell_type": "code",
   "execution_count": 80,
   "id": "777b2a6b",
   "metadata": {},
   "outputs": [
    {
     "name": "stdout",
     "output_type": "stream",
     "text": [
      "Skipping sheet 'Visuals Menu': missing \"Table\" and \"Columm\" columns\n"
     ]
    },
    {
     "data": {
      "text/plain": [
       "[{'P&M Schedule': {'AddDataPoint(P&M)': ['Additional Data Point',\n",
       "    'Value',\n",
       "    'Year',\n",
       "    'Value Completed (Baseline) in M SAR',\n",
       "    'Value Completed (Actual) in M SAR',\n",
       "    'Value Completed (Forecast) in M SAR'],\n",
       "   'DevCoAssessmentAnalysis(P&M)': ['Assessment Criteria', 'Value']}},\n",
       " {'P&M RIsk': {'AddDataPoint(P&M)': ['Additional Data Point',\n",
       "    'Value',\n",
       "    'Risk Category',\n",
       "    'Number of Risk Items',\n",
       "    'Risk',\n",
       "    'Source',\n",
       "    'Potential Impact',\n",
       "    'Risk Rating',\n",
       "    'Risk Status',\n",
       "    'Current Measures'],\n",
       "   'DevCoAssessmentAnalysis(P&M)': ['Assessment Criteria',\n",
       "    'Value',\n",
       "    'Rating']}},\n",
       " {'Cost Estimation & Optimization': {'AddDataPoint(CE&O)': ['Additional Data Point',\n",
       "    'Value',\n",
       "    'Year',\n",
       "    'Budget Value (Baseline) in M SAR',\n",
       "    'Budget Value (Revised) in M SAR',\n",
       "    'Budget Value (Forecast) in M SAR'],\n",
       "   'DevCoAssessmentAnalysis(CE&O)': ['Assessment Criteria', 'Value', 'Rating'],\n",
       "   'DevCoAssessmentInput(CE&O)': ['Data Point', 'Input Value']}},\n",
       " {'D&C - Quality': {'AddDataPoint(D&C)': ['Number of Quality Audits',\n",
       "    'Month',\n",
       "    'Additional Data Point',\n",
       "    'Value'],\n",
       "   'DevCoAssessmentAnalysis(D&C)': ['Assessment Criteria', 'Value'],\n",
       "   'DevCoAssessmentInput(D&C)': ['Assessment Criteria',\n",
       "    'Data Point',\n",
       "    'Input Value']}},\n",
       " {'D&C - Procurement': {'AddDataPoint(D&C)': ['Additional Data Point',\n",
       "    'Value',\n",
       "    nan,\n",
       "    'Baseline',\n",
       "    'Actual',\n",
       "    'Forecast'],\n",
       "   'DevCoAssessmentAnalysis(D&C)': ['Assessment Criteria',\n",
       "    'Value',\n",
       "    'Performance Signal',\n",
       "    'Performance Signal Score'],\n",
       "   'DevCoAssessmentInput(D&C)': ['Assessment Criteria',\n",
       "    'Data Point',\n",
       "    'Input Value']}},\n",
       " {'D&C - HSE & Welfare': {'AddDataPoint(D&C)': ['Additional Data Point',\n",
       "    'Value',\n",
       "    'Incident Category',\n",
       "    'Number of Incidents (To-Date)',\n",
       "    'Number of Investigations in Progress',\n",
       "    'Number of Investigations Completed',\n",
       "    'Number of Investigations Pending Approval',\n",
       "    'Audits/Inspections',\n",
       "    'In Progress_audits',\n",
       "    'Completed_audits',\n",
       "    'Remaining Planned',\n",
       "    'Actions',\n",
       "    'In Progress_actions',\n",
       "    'Completed_actions',\n",
       "    'Pending Approval',\n",
       "    'Year',\n",
       "    'Value_training']}},\n",
       " {'Innovation & Technology': {'AddDataPoint(I&T)': ['Additional Data Point',\n",
       "    'Value'],\n",
       "   'DevCoAssessmentAnalysis(I&T)': ['Assessment Criteria',\n",
       "    'Value',\n",
       "    'Rating',\n",
       "    'Performance Signal Score',\n",
       "    'Performance Signal']}},\n",
       " {'Design & Technical': {'DevCoAssessmentAnalysis(D&T)': ['Remarks 3',\n",
       "    'Performance Signal Score',\n",
       "    'Value',\n",
       "    'Rating',\n",
       "    'Assessment Criteria'],\n",
       "   'DevCoAssessmentInput(D&T)': ['Input Value', 'Data Point']}},\n",
       " {'D&C - Construction': {'AddDataPoint(D&C)': ['Program',\n",
       "    'Pending (Ha)',\n",
       "    'Additional Data Point',\n",
       "    'Value'],\n",
       "   'DevCoAssessmentAnalysis(D&C)': ['Performance Signal Score',\n",
       "    'Assessment Criteria',\n",
       "    'Value',\n",
       "    'Rating'],\n",
       "   'DevCoAssessmentInput(D&C)': ['Input Value']}},\n",
       " {'Strategy & Operations': {'AddDataPoint(S&O)': ['Weightage',\n",
       "    'Name of the KPI'],\n",
       "   'DevCoAssessmentAnalysis(S&O)': ['Rating',\n",
       "    'Assessment Criteria',\n",
       "    'Value']}}]"
      ]
     },
     "execution_count": 80,
     "metadata": {},
     "output_type": "execute_result"
    }
   ],
   "source": [
    "# Unpack reference file\n",
    "ref_tabs = []     \n",
    "\n",
    "for sheet_name, df in ref_sheets.items():\n",
    "    if {\"Table\", \"Column\"}.issubset(df.columns): # Check if columns titled \"Table\" and \"Column\" exist\n",
    "        table_cols = (\n",
    "            df.groupby(\"Table\")[\"Column\"]\n",
    "              .apply(list)\n",
    "              .to_dict()\n",
    "        )\n",
    "        ref_tabs.append({ sheet_name: table_cols })\n",
    "    else:\n",
    "        print(f\"Skipping sheet {sheet_name!r}: missing \\\"Table\\\" and \\\"Columm\\\" columns\")\n",
    "\n",
    "ref_tabs"
   ]
  },
  {
   "cell_type": "code",
   "execution_count": 81,
   "id": "ae9d7194",
   "metadata": {},
   "outputs": [
    {
     "name": "stdout",
     "output_type": "stream",
     "text": [
      "⚠️ Table “AddDataPoint(P&M)” has duplicate columns: ['Additional Data Point', 'Value']\n",
      "⚠️ Table “DevCoAssessmentAnalysis(P&M)” has duplicate columns: ['Assessment Criteria', 'Value']\n",
      "✅ Table “AddDataPoint(CE&O)” has no repeated columns.\n",
      "✅ Table “DevCoAssessmentAnalysis(CE&O)” has no repeated columns.\n",
      "✅ Table “DevCoAssessmentInput(CE&O)” has no repeated columns.\n",
      "⚠️ Table “AddDataPoint(D&C)” has duplicate columns: ['Additional Data Point', 'Value']\n",
      "⚠️ Table “DevCoAssessmentAnalysis(D&C)” has duplicate columns: ['Assessment Criteria', 'Value', 'Performance Signal Score']\n",
      "⚠️ Table “DevCoAssessmentInput(D&C)” has duplicate columns: ['Assessment Criteria', 'Data Point', 'Input Value']\n",
      "✅ Table “AddDataPoint(I&T)” has no repeated columns.\n",
      "✅ Table “DevCoAssessmentAnalysis(I&T)” has no repeated columns.\n",
      "✅ Table “DevCoAssessmentAnalysis(D&T)” has no repeated columns.\n",
      "✅ Table “DevCoAssessmentInput(D&T)” has no repeated columns.\n",
      "✅ Table “AddDataPoint(S&O)” has no repeated columns.\n",
      "✅ Table “DevCoAssessmentAnalysis(S&O)” has no repeated columns.\n",
      "defaultdict(<class 'list'>, {'AddDataPoint(P&M)': ['Additional Data Point', 'Value', 'Year', 'Value Completed (Baseline) in M SAR', 'Value Completed (Actual) in M SAR', 'Value Completed (Forecast) in M SAR', 'Risk Category', 'Number of Risk Items', 'Risk', 'Source', 'Potential Impact', 'Risk Rating', 'Risk Status', 'Current Measures'], 'DevCoAssessmentAnalysis(P&M)': ['Assessment Criteria', 'Value', 'Rating'], 'AddDataPoint(CE&O)': ['Additional Data Point', 'Value', 'Year', 'Budget Value (Baseline) in M SAR', 'Budget Value (Revised) in M SAR', 'Budget Value (Forecast) in M SAR'], 'DevCoAssessmentAnalysis(CE&O)': ['Assessment Criteria', 'Value', 'Rating'], 'DevCoAssessmentInput(CE&O)': ['Data Point', 'Input Value'], 'AddDataPoint(D&C)': ['Number of Quality Audits', 'Month', 'Additional Data Point', 'Value', nan, 'Baseline', 'Actual', 'Forecast', 'Incident Category', 'Number of Incidents (To-Date)', 'Number of Investigations in Progress', 'Number of Investigations Completed', 'Number of Investigations Pending Approval', 'Audits/Inspections', 'In Progress_audits', 'Completed_audits', 'Remaining Planned', 'Actions', 'In Progress_actions', 'Completed_actions', 'Pending Approval', 'Year', 'Value_training', 'Program', 'Pending (Ha)'], 'DevCoAssessmentAnalysis(D&C)': ['Assessment Criteria', 'Value', 'Performance Signal', 'Performance Signal Score', 'Rating'], 'DevCoAssessmentInput(D&C)': ['Assessment Criteria', 'Data Point', 'Input Value'], 'AddDataPoint(I&T)': ['Additional Data Point', 'Value'], 'DevCoAssessmentAnalysis(I&T)': ['Assessment Criteria', 'Value', 'Rating', 'Performance Signal Score', 'Performance Signal'], 'DevCoAssessmentAnalysis(D&T)': ['Remarks 3', 'Performance Signal Score', 'Value', 'Rating', 'Assessment Criteria'], 'DevCoAssessmentInput(D&T)': ['Input Value', 'Data Point'], 'AddDataPoint(S&O)': ['Weightage', 'Name of the KPI'], 'DevCoAssessmentAnalysis(S&O)': ['Rating', 'Assessment Criteria', 'Value']})\n"
     ]
    }
   ],
   "source": [
    "table_cols = defaultdict(list)\n",
    "\n",
    "for tab_dict in ref_tabs:\n",
    "    sheet_map = next(iter(tab_dict.values()))\n",
    "    for table_name, cols in sheet_map.items():\n",
    "        table_cols[table_name].extend(cols)\n",
    "        \n",
    "for table_name, all_cols in table_cols.items():\n",
    "    counts = Counter(all_cols)\n",
    "    dupes = [col for col, n in counts.items() if n > 1]\n",
    "    if dupes:\n",
    "        print(f\"⚠️ Table “{table_name}” has duplicate columns: {dupes}\")\n",
    "    else:\n",
    "        print(f\"✅ Table “{table_name}” has no repeated columns.\")\n",
    "\n",
    "for table_name, cols in table_cols.items():\n",
    "    table_cols[table_name] = list(OrderedDict.fromkeys(cols))\n",
    "\n",
    "print(table_cols)"
   ]
  },
  {
   "cell_type": "code",
   "execution_count": null,
   "id": "7199cd16",
   "metadata": {},
   "outputs": [
    {
     "data": {
      "text/plain": [
       "{'Additional Data Point',\n",
       " 'Assessment Criteria',\n",
       " 'Data Point',\n",
       " 'Input Value',\n",
       " 'Performance Signal',\n",
       " 'Performance Signal Score',\n",
       " 'Rating',\n",
       " 'Value',\n",
       " 'Year'}"
      ]
     },
     "execution_count": 84,
     "metadata": {},
     "output_type": "execute_result"
    }
   ],
   "source": [
    "# all_cols = []\n",
    "# for cols in table_cols.values():\n",
    "#     all_cols.extend(cols)\n",
    "# dupe_cols = {c for c, cnt in Counter(all_cols).items() if cnt > 1}\n",
    "\n",
    "# dupe_cols"
   ]
  },
  {
   "cell_type": "code",
   "execution_count": null,
   "id": "015e3f38",
   "metadata": {},
   "outputs": [
    {
     "name": "stdout",
     "output_type": "stream",
     "text": [
      "Reading 'assessment_guide_diriyah.xlsm' (suffix = diriyah)\n",
      "⚠️ In table 'AddDataPoint(D&C)', missing columns: {nan}\n",
      "Reading 'assessment_guide_qiddiya.xlsm' (suffix = qiddiya)\n",
      "⚠️ In table 'AddDataPoint(D&C)', missing columns: {nan}\n",
      "Final master shape: (156, 81)\n"
     ]
    }
   ],
   "source": [
    "file_frames = []   # to collect df for each file\n",
    "\n",
    "for data_path in ag_files:\n",
    "    # derive suffix\n",
    "    parts = data_path.stem.split(\"assessment_guide_\")\n",
    "    suffix = parts[1]\n",
    "\n",
    "    print(f\"Reading {data_path.name!r} (suffix = {suffix})\")\n",
    "\n",
    "    pieces = []\n",
    "    for table_name, cols in table_cols.items():\n",
    "        df = pd.read_excel(data_path, sheet_name=table_name, header=4)  # pull in AG data. Each table name from column reference sheet is a sheet name in the AG file.\n",
    "        df.columns = (\n",
    "            df.columns\n",
    "            .str.replace(r'\\s*\\n\\s*', ' ', regex=True)  \n",
    "            .str.strip()                                \n",
    "        )\n",
    "\n",
    "        # print(df.columns)\n",
    "\n",
    "        present = [c for c in cols if c in df.columns] # cols = columns from reference, present = columns in AG\n",
    "        missing = set(cols) - set(present)\n",
    "        if missing:\n",
    "            print(f\"⚠️ In table {table_name!r}, missing columns: {missing}\")\n",
    "\n",
    "        df_sub = df[present].copy()\n",
    "        for c in missing:\n",
    "            df_sub[c] = pd.NA\n",
    "\n",
    "        # rename_map = {\n",
    "        #     col: f\"{col}_{table_name}\"\n",
    "        #     for col in df_sub.columns\n",
    "        #     if col in dupe_cols\n",
    "        # }\n",
    "        # if rename_map:\n",
    "        #     df_sub = df_sub.rename(columns=rename_map)\n",
    "\n",
    "        pieces.append(df_sub)\n",
    "\n",
    "    file_df = pd.concat(pieces, axis=1) # master df for each file\n",
    "\n",
    "    file_df.insert(0, \"DevCo\", [suffix] * len(file_df)) # append DevCo column\n",
    "\n",
    "    file_frames.append(file_df) # append master df for each file to a list\n",
    "\n",
    "master_df = pd.concat(file_frames, axis=0, ignore_index=True) # stack master df for each file row-wise\n",
    "\n",
    "print(\"Final master shape:\", master_df.shape)\n",
    "# master_df\n"
   ]
  },
  {
   "cell_type": "code",
   "execution_count": 86,
   "id": "1b2fcea7",
   "metadata": {},
   "outputs": [],
   "source": [
    "for df in file_frames:\n",
    "    dups = df.columns[df.columns.duplicated()].unique()\n",
    "    if len(dups):\n",
    "        print(\"⚠️ Duplicated column names in this frame:\", dups.tolist())"
   ]
  },
  {
   "cell_type": "markdown",
   "id": "59ad4589",
   "metadata": {},
   "source": []
  },
  {
   "cell_type": "code",
   "execution_count": 87,
   "id": "b53ee174",
   "metadata": {},
   "outputs": [
    {
     "name": "stdout",
     "output_type": "stream",
     "text": [
      "✅ Saved master sheet to WindowsPath('c:/Users/jeremy.yap/OneDrive - Meinhardt Singapore Pte Ltd/Python/lighthouse_dash/master_sheet.xlsx')\n"
     ]
    }
   ],
   "source": [
    "output_path = repo_root/ 'master_sheet.xlsx'\n",
    "master_df.to_excel(output_path, index=False)\n",
    "\n",
    "print(f\"✅ Saved master sheet to {output_path!r}\")"
   ]
  },
  {
   "cell_type": "code",
   "execution_count": null,
   "id": "e7c7e919",
   "metadata": {},
   "outputs": [],
   "source": []
  }
 ],
 "metadata": {
  "kernelspec": {
   "display_name": ".venv",
   "language": "python",
   "name": "python3"
  },
  "language_info": {
   "codemirror_mode": {
    "name": "ipython",
    "version": 3
   },
   "file_extension": ".py",
   "mimetype": "text/x-python",
   "name": "python",
   "nbconvert_exporter": "python",
   "pygments_lexer": "ipython3",
   "version": "3.13.3"
  }
 },
 "nbformat": 4,
 "nbformat_minor": 5
}
