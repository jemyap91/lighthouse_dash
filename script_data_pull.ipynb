{
 "cells": [
  {
   "cell_type": "code",
   "execution_count": null,
   "id": "ec271dfd",
   "metadata": {},
   "outputs": [
    {
     "name": "stdout",
     "output_type": "stream",
     "text": [
      "Requirement already satisfied: pandas in c:\\users\\chavi.mangla\\appdata\\local\\programs\\python\\python313\\lib\\site-packages (2.2.3)\n",
      "Collecting openpyxl\n",
      "  Downloading openpyxl-3.1.5-py2.py3-none-any.whl.metadata (2.5 kB)\n",
      "Requirement already satisfied: numpy>=1.26.0 in c:\\users\\chavi.mangla\\appdata\\local\\programs\\python\\python313\\lib\\site-packages (from pandas) (2.2.5)\n",
      "Requirement already satisfied: python-dateutil>=2.8.2 in c:\\users\\chavi.mangla\\appdata\\local\\programs\\python\\python313\\lib\\site-packages (from pandas) (2.9.0.post0)\n",
      "Requirement already satisfied: pytz>=2020.1 in c:\\users\\chavi.mangla\\appdata\\local\\programs\\python\\python313\\lib\\site-packages (from pandas) (2025.2)\n",
      "Requirement already satisfied: tzdata>=2022.7 in c:\\users\\chavi.mangla\\appdata\\local\\programs\\python\\python313\\lib\\site-packages (from pandas) (2025.2)\n",
      "Collecting et-xmlfile (from openpyxl)\n",
      "  Downloading et_xmlfile-2.0.0-py3-none-any.whl.metadata (2.7 kB)\n",
      "Requirement already satisfied: six>=1.5 in c:\\users\\chavi.mangla\\appdata\\local\\programs\\python\\python313\\lib\\site-packages (from python-dateutil>=2.8.2->pandas) (1.17.0)\n",
      "Downloading openpyxl-3.1.5-py2.py3-none-any.whl (250 kB)\n",
      "Downloading et_xmlfile-2.0.0-py3-none-any.whl (18 kB)\n",
      "Installing collected packages: et-xmlfile, openpyxl\n",
      "Successfully installed et-xmlfile-2.0.0 openpyxl-3.1.5\n",
      "Note: you may need to restart the kernel to use updated packages.\n"
     ]
    },
    {
     "name": "stderr",
     "output_type": "stream",
     "text": [
      "\n",
      "[notice] A new release of pip is available: 25.0.1 -> 25.1.1\n",
      "[notice] To update, run: python.exe -m pip install --upgrade pip\n"
     ]
    }
   ],
   "source": [
    "pip install pandas openpyxl"
   ]
  },
  {
   "cell_type": "code",
   "execution_count": 2,
   "id": "2511e8f5",
   "metadata": {},
   "outputs": [],
   "source": [
    "import pandas as pd"
   ]
  },
  {
   "cell_type": "code",
   "execution_count": 5,
   "id": "1b1369ab",
   "metadata": {},
   "outputs": [
    {
     "name": "stderr",
     "output_type": "stream",
     "text": [
      "c:\\Users\\chavi.mangla\\AppData\\Local\\Programs\\Python\\Python313\\Lib\\site-packages\\openpyxl\\worksheet\\_reader.py:329: UserWarning: Data Validation extension is not supported and will be removed\n",
      "  warn(msg)\n",
      "c:\\Users\\chavi.mangla\\AppData\\Local\\Programs\\Python\\Python313\\Lib\\site-packages\\openpyxl\\worksheet\\_reader.py:329: UserWarning: Data Validation extension is not supported and will be removed\n",
      "  warn(msg)\n",
      "c:\\Users\\chavi.mangla\\AppData\\Local\\Programs\\Python\\Python313\\Lib\\site-packages\\openpyxl\\worksheet\\_reader.py:329: UserWarning: Data Validation extension is not supported and will be removed\n",
      "  warn(msg)\n",
      "c:\\Users\\chavi.mangla\\AppData\\Local\\Programs\\Python\\Python313\\Lib\\site-packages\\openpyxl\\worksheet\\_reader.py:329: UserWarning: Data Validation extension is not supported and will be removed\n",
      "  warn(msg)\n",
      "c:\\Users\\chavi.mangla\\AppData\\Local\\Programs\\Python\\Python313\\Lib\\site-packages\\openpyxl\\worksheet\\_reader.py:329: UserWarning: Data Validation extension is not supported and will be removed\n",
      "  warn(msg)\n",
      "c:\\Users\\chavi.mangla\\AppData\\Local\\Programs\\Python\\Python313\\Lib\\site-packages\\openpyxl\\worksheet\\_reader.py:329: UserWarning: Data Validation extension is not supported and will be removed\n",
      "  warn(msg)\n",
      "c:\\Users\\chavi.mangla\\AppData\\Local\\Programs\\Python\\Python313\\Lib\\site-packages\\openpyxl\\worksheet\\_reader.py:329: UserWarning: Data Validation extension is not supported and will be removed\n",
      "  warn(msg)\n",
      "c:\\Users\\chavi.mangla\\AppData\\Local\\Programs\\Python\\Python313\\Lib\\site-packages\\openpyxl\\worksheet\\_reader.py:329: UserWarning: Data Validation extension is not supported and will be removed\n",
      "  warn(msg)\n",
      "c:\\Users\\chavi.mangla\\AppData\\Local\\Programs\\Python\\Python313\\Lib\\site-packages\\openpyxl\\worksheet\\_reader.py:329: UserWarning: Data Validation extension is not supported and will be removed\n",
      "  warn(msg)\n",
      "c:\\Users\\chavi.mangla\\AppData\\Local\\Programs\\Python\\Python313\\Lib\\site-packages\\openpyxl\\worksheet\\_reader.py:329: UserWarning: Data Validation extension is not supported and will be removed\n",
      "  warn(msg)\n"
     ]
    }
   ],
   "source": [
    "master_reference_sheet_path = \"master_sheet_reference.xlsx\"\n",
    "master_ref = pd.read_excel(master_reference_sheet_path, sheet_name=None, engine=\"openpyxl\")"
   ]
  },
  {
   "cell_type": "code",
   "execution_count": null,
   "id": "1edce54a",
   "metadata": {},
   "outputs": [],
   "source": []
  },
  {
   "cell_type": "code",
   "execution_count": null,
   "id": "17a5f601",
   "metadata": {},
   "outputs": [
    {
     "name": "stdout",
     "output_type": "stream",
     "text": [
      "P&M Schedule\n",
      "P&M RIsk\n",
      "Cost Estimation & Optimization\n",
      "D&C - Quality\n",
      "D&C - Procurement\n",
      "D&C - HSE & Welfare\n",
      "Innovation & Technology\n",
      "Design & Technical\n",
      "D&C - Construction\n",
      "Strategy & Operations\n",
      "Visuals Menu\n"
     ]
    }
   ],
   "source": [
    "#checking if sheetnames are printed out\n",
    "for sheet in master_ref:\n",
    "    print(sheet)"
   ]
  },
  {
   "cell_type": "code",
   "execution_count": 12,
   "id": "50ec2161",
   "metadata": {},
   "outputs": [
    {
     "name": "stdout",
     "output_type": "stream",
     "text": [
      "Skipping sheet Visuals Menu: Missing 'Table' or 'Column' column\n"
     ]
    },
    {
     "data": {
      "text/plain": [
       "[{'P&M Schedule': {'AddDataPoint(P&M)': ['Additional Data Point',\n",
       "    'Value',\n",
       "    'Year',\n",
       "    'Value Completed (Baseline) in M SAR',\n",
       "    'Value Completed (Actual) in M SAR',\n",
       "    'Value Completed (Forecast) in M SAR'],\n",
       "   'DevCoAssessmentAnalysis(P&M)': ['Assessment Criteria', 'Value']}},\n",
       " {'P&M RIsk': {'AddDataPoint(P&M)': ['Additional Data Point',\n",
       "    'Value',\n",
       "    'Risk Category',\n",
       "    'Number of Risk Items',\n",
       "    'Risk',\n",
       "    'Source',\n",
       "    'Potential Impact',\n",
       "    'Risk Rating',\n",
       "    'Risk Status',\n",
       "    'Current Measures'],\n",
       "   'DevCoAssessmentAnalysis(P&M)': ['Assessment Criteria',\n",
       "    'Value',\n",
       "    'Rating']}},\n",
       " {'Cost Estimation & Optimization': {'AddDataPoint(CE&O)': ['Additional Data Point',\n",
       "    'Value',\n",
       "    'Year',\n",
       "    'Budget Value (Baseline) in M SAR',\n",
       "    'Budget Value (Revised) in M SAR',\n",
       "    'Budget Value (Forecast) in M SAR'],\n",
       "   'DevCoAssessmentAnalysis(CE&O)': ['Assessment Criteria', 'Value', 'Rating'],\n",
       "   'DevCoAssessmentInput(CE&O)': ['Data Point',\n",
       "    'Input Value',\n",
       "    'Data Point',\n",
       "    'Input Value']}},\n",
       " {'D&C - Quality': {'AddDataPoint(D&C)': ['Number of Quality Audits',\n",
       "    'Month',\n",
       "    'Additional Data Point',\n",
       "    'Value'],\n",
       "   'DevCoAssessmentAnalysis(D&C)': ['Assessment Criteria', 'Value'],\n",
       "   'DevCoAssessmentInput(D&C)': ['Assessment Criteria',\n",
       "    'Data Point',\n",
       "    'Input Value']}},\n",
       " {'D&C - Procurement': {'AddDataPoint(D&C)': ['Additional Data Point',\n",
       "    'Value',\n",
       "    nan,\n",
       "    'Baseline',\n",
       "    'Actual',\n",
       "    'Forecast'],\n",
       "   'DevCoAssessmentAnalysis(D&C)': ['Assessment Criteria',\n",
       "    'Value',\n",
       "    'PerformanceSignal',\n",
       "    'Performance Signal Score'],\n",
       "   'DevCoAssessmentInput(D&C)': ['Assessment Criteria',\n",
       "    'Data Point',\n",
       "    'Input Value']}},\n",
       " {'D&C - HSE & Welfare': {'AddDataPoint(D&C)': ['Additional Data Point',\n",
       "    'Value',\n",
       "    'Incident Category',\n",
       "    'Number of Incidents (To-Date)',\n",
       "    'Number of Investigations in Progress',\n",
       "    'Number of Investigations Completed',\n",
       "    'Number of Investigations Pending Approval',\n",
       "    'Audits/Inspections',\n",
       "    'In Progress',\n",
       "    'Completed',\n",
       "    'Remaining Planned',\n",
       "    'Actions',\n",
       "    'In Progress',\n",
       "    'Completed',\n",
       "    'Pending Approval',\n",
       "    'Year',\n",
       "    'Value']}},\n",
       " {'Innovation & Technology': {'AddDataPoint(I&T)': ['Additional Data Point',\n",
       "    'Value'],\n",
       "   'DevCoAssessmentAnalysis(I&T)': ['Assessment Criteria',\n",
       "    'Value',\n",
       "    'Rating',\n",
       "    'Performance Signal Score',\n",
       "    'PerformanceSignal']}},\n",
       " {'Design & Technical': {}},\n",
       " {'D&C - Construction': {}},\n",
       " {'Strategy & Operations': {}}]"
      ]
     },
     "execution_count": 12,
     "metadata": {},
     "output_type": "execute_result"
    }
   ],
   "source": [
    "ref_tabs = []\n",
    "\n",
    "for sheet_name, df in master_ref.items():\n",
    "    if {\"Table\", \"Column\"}.issubset(df.columns):\n",
    "        table_cols = df.groupby(\"Table\")[\"Column\"].apply(list).to_dict()\n",
    "        ref_tabs.append({sheet_name: table_cols})\n",
    "    else:\n",
    "        print(f\"Skipping sheet {sheet_name}: Missing 'Table' or 'Column' column\")\n",
    "\n",
    "ref_tabs\n"
   ]
  },
  {
   "cell_type": "code",
   "execution_count": 13,
   "id": "9d5756e5",
   "metadata": {},
   "outputs": [
    {
     "data": {
      "text/plain": [
       "{'P&M Schedule': {'AddDataPoint(P&M)': ['Additional Data Point',\n",
       "   'Value',\n",
       "   'Year',\n",
       "   'Value Completed (Baseline) in M SAR',\n",
       "   'Value Completed (Actual) in M SAR',\n",
       "   'Value Completed (Forecast) in M SAR'],\n",
       "  'DevCoAssessmentAnalysis(P&M)': ['Assessment Criteria', 'Value']}}"
      ]
     },
     "execution_count": 13,
     "metadata": {},
     "output_type": "execute_result"
    }
   ],
   "source": [
    "sheet_info = ref_tabs[0]\n",
    "sheet_info"
   ]
  },
  {
   "cell_type": "code",
   "execution_count": 17,
   "id": "817efbee",
   "metadata": {},
   "outputs": [
    {
     "data": {
      "text/plain": [
       "{'AddDataPoint(P&M)': ['Additional Data Point',\n",
       "  'Value',\n",
       "  'Year',\n",
       "  'Value Completed (Baseline) in M SAR',\n",
       "  'Value Completed (Actual) in M SAR',\n",
       "  'Value Completed (Forecast) in M SAR'],\n",
       " 'DevCoAssessmentAnalysis(P&M)': ['Assessment Criteria', 'Value']}"
      ]
     },
     "execution_count": 17,
     "metadata": {},
     "output_type": "execute_result"
    }
   ],
   "source": [
    "sheet_name = list(sheet_info.keys())[0]  # Get the sheet name string\n",
    "tables = sheet_info[sheet_name]          # Get dictionary of tables for this sheet\n",
    "sheet_name\n",
    "tables\n"
   ]
  },
  {
   "cell_type": "code",
   "execution_count": null,
   "id": "c75fd0d0",
   "metadata": {},
   "outputs": [
    {
     "data": {
      "text/plain": [
       "['Additional Data Point',\n",
       " 'Value',\n",
       " 'Year',\n",
       " 'Value Completed (Baseline) in M SAR',\n",
       " 'Value Completed (Actual) in M SAR',\n",
       " 'Value Completed (Forecast) in M SAR']"
      ]
     },
     "execution_count": 21,
     "metadata": {},
     "output_type": "execute_result"
    }
   ],
   "source": [
    "table_name = list(tables.keys())[0]  # Get first table name\n",
    "columns = tables[table_name]          # List of columns for that table\n",
    "\n",
    "columns"
   ]
  },
  {
   "cell_type": "code",
   "execution_count": null,
   "id": "af3c200c",
   "metadata": {},
   "outputs": [],
   "source": [
    "# for only one table in AG \n",
    "ag_df = pd.read_excel(\"250805 - Project LH - Assessment Guide Diriyah (SEC) V18.xlsx\", sheet_name=table_name, engine=\"openpyxl\", header=4)"
   ]
  },
  {
   "cell_type": "code",
   "execution_count": null,
   "id": "756a3200",
   "metadata": {},
   "outputs": [
    {
     "name": "stdout",
     "output_type": "stream",
     "text": [
      "['SN', 'Criteria', 'Additional Data Point', 'Value', 'Scorecard\\nVisualization', 'Unnamed: 5', 'Year', 'Value Completed (Baseline) in M SAR', 'Value Completed (Actual) in M SAR', 'Value Completed (Forecast) in M SAR', 'Unnamed: 10', 'Risk', 'Source', 'Potential Impact', 'Risk Rating', 'Risk Status', 'Current Measures', 'Unnamed: 17', 'Risk Category', 'Number of Risk Items']\n",
      "   SN  Criteria              Additional Data Point  Value  \\\n",
      "0   1       NaN  Latest Approved Completion Date​   Q2-28   \n",
      "\n",
      "   Scorecard\\nVisualization  Unnamed: 5    Year  \\\n",
      "0  Visualized with no score         NaN  2025.0   \n",
      "\n",
      "   Value Completed (Baseline) in M SAR  Value Completed (Actual) in M SAR  \\\n",
      "0                                  0.0                                NaN   \n",
      "\n",
      "   Value Completed (Forecast) in M SAR  Unnamed: 10    Risk      Source  \\\n",
      "0                                  NaN          NaN  Risk 1  Contractor   \n",
      "\n",
      "  Potential Impact Risk Rating Risk Status Current Measures  Unnamed: 17  \\\n",
      "0             Cost        High        Open       Measure 02          NaN   \n",
      "\n",
      "  Risk Category  Number of Risk Items  \n",
      "0           NaN                   NaN  \n"
     ]
    }
   ],
   "source": [
    "print(ag_df.columns.tolist()) # cols to a list conversion\n",
    "print(ag_df.head(1))"
   ]
  },
  {
   "cell_type": "code",
   "execution_count": 44,
   "id": "643ec9f8",
   "metadata": {},
   "outputs": [],
   "source": [
    "ag_df.columns = ag_df.columns.str.strip()\n",
    "filtered_df = ag_df[[col for col in columns if col in ag_df.columns]]"
   ]
  },
  {
   "cell_type": "code",
   "execution_count": 45,
   "id": "f9a2c12c",
   "metadata": {},
   "outputs": [
    {
     "name": "stdout",
     "output_type": "stream",
     "text": [
      "✅ Saved: Filtered_AddDataPoint(P&M).xlsx\n"
     ]
    }
   ],
   "source": [
    "output_path = f\"Filtered_{table_name}.xlsx\"\n",
    "filtered_df.to_excel(output_path, index=False)\n",
    "print(f\"✅ Saved: {output_path}\")"
   ]
  }
 ],
 "metadata": {
  "kernelspec": {
   "display_name": "Python 3",
   "language": "python",
   "name": "python3"
  },
  "language_info": {
   "codemirror_mode": {
    "name": "ipython",
    "version": 3
   },
   "file_extension": ".py",
   "mimetype": "text/x-python",
   "name": "python",
   "nbconvert_exporter": "python",
   "pygments_lexer": "ipython3",
   "version": "3.13.3"
  }
 },
 "nbformat": 4,
 "nbformat_minor": 5
}
